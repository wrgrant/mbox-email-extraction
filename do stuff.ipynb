{
 "cells": [
  {
   "cell_type": "code",
   "execution_count": 3,
   "metadata": {},
   "outputs": [],
   "source": [
    "import mailbox\n",
    "import os\n",
    "import csv"
   ]
  },
  {
   "cell_type": "code",
   "execution_count": 20,
   "metadata": {},
   "outputs": [],
   "source": [
    "# Run this cell to define the function that will be used to extract the mbox data.\n",
    "\n",
    "def parse_mbox(file_path, output_dir, csv_path):\n",
    "    # Create a directory for extracted PDFs if it doesn't exist\n",
    "    if not os.path.isdir(output_dir):\n",
    "        os.makedirs(output_dir)\n",
    "\n",
    "    # Open the mbox file\n",
    "    mbox = mailbox.mbox(file_path)\n",
    "\n",
    "    # Open CSV file for writing\n",
    "    file = open(csv_path, mode='w', newline='', encoding='utf-8') \n",
    "    writer = csv.writer(file)\n",
    "    # Write CSV headers\n",
    "    writer.writerow(['Email Index', 'Subject', 'Date', 'PDF Filename'])\n",
    "\n",
    "\n",
    "    # Iterate through messages in the mbox\n",
    "    for i_msg, message in enumerate(mbox):\n",
    "        # Extract headers\n",
    "        subject = message.get('subject', 'No Subject')\n",
    "        from_ = message.get('from', 'No Sender')\n",
    "        to = message.get('to', 'No Recipient')\n",
    "        date = message.get('date', 'No Date')\n",
    "        pdf_filepath = None\n",
    "        body = None\n",
    "\n",
    "        # Print email details\n",
    "        # print(f\"Subject: {subject}\")\n",
    "        # print(f\"From: {from_}\")\n",
    "        # print(f\"To: {to}\")\n",
    "        # print(f\"Date: {date}\")\n",
    "\n",
    "        # Extract email body and attachment.\n",
    "        if message.is_multipart():\n",
    "            for part in message.walk():\n",
    "                content_type = part.get_content_type()\n",
    "                content_disposition = part.get(\"Content-Disposition\")\n",
    "\t\t\t\t\n",
    "                # Get message body.\n",
    "                if content_type == \"text/plain\" and not content_disposition:\n",
    "                    body = part.get_payload(decode=True).decode()\n",
    "                \n",
    "                # Save attachment to folder, named starting with the key.\n",
    "                if content_disposition and \"attachment\" in content_disposition:\n",
    "                    filename = part.get_filename()\n",
    "                    if filename and filename.lower().endswith('.pdf'):\n",
    "                        pdf_filepath = os.path.join(output_dir, f\"{i_msg}_{filename}\")\n",
    "                        with open(pdf_filepath, \"wb\") as f:\n",
    "                            f.write(part.get_payload(decode=True))\n",
    "                        # print(f\"Extracted: {filepath}\")\n",
    "        else:\n",
    "            body = message.get_payload(decode=True).decode()\n",
    "\n",
    "        # Write email details and PDF filename to CSV.\n",
    "        writer.writerow([i_msg, subject, date, pdf_filepath or 'No PDF'])\n",
    "\n",
    "    # Close the CSV file after done writing.\n",
    "    file.close()\n"
   ]
  },
  {
   "cell_type": "code",
   "execution_count": 21,
   "metadata": {},
   "outputs": [],
   "source": [
    "# Ensure file names are set here. Then run this cell to extract the PDFs and build the CSV.\n",
    "\n",
    "mbox_file_path = 'AI Jobs.mbox'\n",
    "parse_mbox(mbox_file_path, \"./attachments\", 'results.csv')"
   ]
  },
  {
   "cell_type": "code",
   "execution_count": 19,
   "metadata": {},
   "outputs": [],
   "source": [
    "# Cell to clean up before starting another extraction.\n",
    "import shutil\n",
    "shutil.rmtree(\"./attachments/\")\n",
    "os.remove(\"./results.csv\")"
   ]
  }
 ],
 "metadata": {
  "kernelspec": {
   "display_name": "venv",
   "language": "python",
   "name": "python3"
  },
  "language_info": {
   "codemirror_mode": {
    "name": "ipython",
    "version": 3
   },
   "file_extension": ".py",
   "mimetype": "text/x-python",
   "name": "python",
   "nbconvert_exporter": "python",
   "pygments_lexer": "ipython3",
   "version": "3.11.6"
  }
 },
 "nbformat": 4,
 "nbformat_minor": 2
}
